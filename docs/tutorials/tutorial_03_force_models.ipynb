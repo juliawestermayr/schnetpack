{
 "cells": [
  {
   "cell_type": "markdown",
   "metadata": {},
   "source": [
    "# Training a model on forces and energies\n",
    "\n",
    "In addition to the energy, machine learning models can also be used to model molecular forces.\n",
    "These are $N_\\mathrm{atoms} \\times 3$ arrays describing the Cartesian force acting on each atom due to the overall\n",
    "(potential) energy. They are formally defined as the negative gradient of the energy $E_\\mathrm{pot}$ with respect to\n",
    "the nuclear positions $\\mathbf{R}$\n",
    "\n",
    "\\begin{equation}\n",
    "\\mathbf{F}^{(\\alpha)} = -\\frac{\\partial E_\\mathrm{pot}}{\\partial \\mathbf{R}^{(\\alpha)}},\n",
    "\\end{equation}\n",
    "\n",
    "where $\\alpha$ is the index of the nucleus.\n",
    "\n",
    "The above expression offers a straightforward way to include forces in machine learning models by simply defining a\n",
    "model for the energy and taking the appropriate derivatives.\n",
    "The resulting model can directly be trained on energies and forces.\n",
    "Moreover, in this manner energy conservation and the correct behaviour under rotations of the molecule is guaranteed.\n",
    "\n",
    "Using forces in addition to energies to construct a machine learning model offers several advantages.\n",
    "Accurate force predictions are important for molecular dynamics simulations, which will be covered in the subsequent\n",
    "tutorial. Forces also encode a greater wealth of information than the energies.\n",
    "For every molecule, only one energy is present, while there are $3N_\\mathrm{atoms}$ force entries.\n",
    "This property, combined with the fact that reference forces can be computed at the same cost as energies, makes models\n",
    "trained on forces and energies very data efficient.\n",
    "\n",
    "In the following, we will show how to train such force models and how to use them in practical applications."
   ]
  },
  {
   "cell_type": "markdown",
   "metadata": {},
   "source": [
    "## Preparing the data\n",
    "\n",
    "The process of preparing the data is similar to the tutorial on [QM9](tutorial_02_qm9.ipynb). We begin by importing all\n",
    "relevant packages and generating a directory for the tutorial experiments."
   ]
  },
  {
   "cell_type": "code",
   "execution_count": 1,
   "metadata": {},
   "outputs": [],
   "source": [
    "import torch\n",
    "import torchmetrics\n",
    "import schnetpack as spk\n",
    "import schnetpack.transform as trn\n",
    "import pytorch_lightning as pl\n",
    "import os\n",
    "import matplotlib.pyplot as plt\n",
    "import numpy as np\n",
    "\n",
    "forcetut = './forcetut'\n",
    "if not os.path.exists(forcetut):\n",
    "    os.makedirs(forcetut)"
   ]
  },
  {
   "cell_type": "markdown",
   "metadata": {},
   "source": [
    "Next, the data needs to be loaded from a suitable dataset. \n",
    "For convenience, we use the MD17 dataset class provided in SchNetPack, which automatically downloads and builds suitable\n",
    "databases containing energies and forces for a range of small organic molecules.\n",
    "In this case, we use the ethanol molecule as an example."
   ]
  },
  {
   "cell_type": "code",
   "execution_count": 2,
   "metadata": {},
   "outputs": [
    {
     "name": "stderr",
     "output_type": "stream",
     "text": [
      "/home/kschuett/anaconda3/envs/spkdev/lib/python3.8/site-packages/pytorch_lightning/core/datamodule.py:73: LightningDeprecationWarning: DataModule property `train_transforms` was deprecated in v1.5 and will be removed in v1.7.\n",
      "  rank_zero_deprecation(\n",
      "/home/kschuett/anaconda3/envs/spkdev/lib/python3.8/site-packages/pytorch_lightning/core/datamodule.py:77: LightningDeprecationWarning: DataModule property `val_transforms` was deprecated in v1.5 and will be removed in v1.7.\n",
      "  rank_zero_deprecation(\n",
      "/home/kschuett/anaconda3/envs/spkdev/lib/python3.8/site-packages/pytorch_lightning/core/datamodule.py:81: LightningDeprecationWarning: DataModule property `test_transforms` was deprecated in v1.5 and will be removed in v1.7.\n",
      "  rank_zero_deprecation(\n",
      "/home/kschuett/anaconda3/envs/spkdev/lib/python3.8/site-packages/pytorch_lightning/core/datamodule.py:114: LightningDeprecationWarning: DataModule property `train_transforms` was deprecated in v1.5 and will be removed in v1.7.\n",
      "  rank_zero_deprecation(\n",
      "100%|██████████| 100/100 [00:12<00:00,  7.80it/s]\n",
      "/home/kschuett/anaconda3/envs/spkdev/lib/python3.8/site-packages/pytorch_lightning/core/datamodule.py:133: LightningDeprecationWarning: DataModule property `val_transforms` was deprecated in v1.5 and will be removed in v1.7.\n",
      "  rank_zero_deprecation(\n",
      "/home/kschuett/anaconda3/envs/spkdev/lib/python3.8/site-packages/pytorch_lightning/core/datamodule.py:152: LightningDeprecationWarning: DataModule property `test_transforms` was deprecated in v1.5 and will be removed in v1.7.\n",
      "  rank_zero_deprecation(\n"
     ]
    }
   ],
   "source": [
    "from schnetpack.datasets import MD17\n",
    "\n",
    "ethanol_data = MD17(\n",
    "    os.path.join(forcetut,'ethanol.db'),\n",
    "    molecule='ethanol',\n",
    "    batch_size=10,\n",
    "    num_train=1000,\n",
    "    num_val=1000,\n",
    "    transforms=[\n",
    "        trn.ASENeighborList(cutoff=5.),\n",
    "        trn.RemoveOffsets(MD17.energy, remove_mean=True, remove_atomrefs=False),\n",
    "        trn.CastTo32()\n",
    "    ],\n",
    "    num_workers=1,\n",
    "    pin_memory=True, # set to false, when not using a GPU\n",
    ")\n",
    "ethanol_data.prepare_data()\n",
    "ethanol_data.setup()"
   ]
  },
  {
   "cell_type": "markdown",
   "metadata": {},
   "source": [
    "The data is split into training (1000 points), validation (1000 points) and test set (remainder).\n",
    "Once again, we subtract the mean of the energies in the training data with a preprocessing transform to precondition\n",
    "our model. This only needs to be done for the energies, since the forces are obtained as derivatives and automatically\n",
    "capture the scale of the data. The subtraction of atomic reference energies is not necessary here, since only molecules\n",
    "of the same composition are used.\n",
    "\n",
    "For custom datasets, the data would have to be loaded via the SchNetPack `ASEAtomsData` and `AtomsDataModule` classes\n",
    "(see tutorial on [data preparation](tutorial_01_preparing_data.ipynb)). In this case, one needs to make sure that the\n",
    "naming of properties is kept consistent with the config. The `schnetpack.properties` module provides standard names\n",
    "for a wide range of properties. Here, we use the definitions provided with the `MD17` class.\n",
    "\n",
    "In order to train force models, forces need to be included in the reference data.\n",
    "Once the dataset has been loaded, this can be checked as follows:"
   ]
  },
  {
   "cell_type": "code",
   "execution_count": 3,
   "metadata": {},
   "outputs": [
    {
     "name": "stdout",
     "output_type": "stream",
     "text": [
      "Loaded properties:\n",
      " _idx\n",
      " energy\n",
      " forces\n",
      " _n_atoms\n",
      " _atomic_numbers\n",
      " _positions\n",
      " _cell\n",
      " _pbc\n",
      "\n"
     ]
    }
   ],
   "source": [
    "properties = ethanol_data.dataset[0]\n",
    "print('Loaded properties:\\n', *['{:s}\\n'.format(i) for i in properties.keys()])"
   ]
  },
  {
   "cell_type": "markdown",
   "metadata": {},
   "source": [
    "As can be seen, `energy` and `forces` are included in the properties dictionary. To have a look at the `forces` array\n",
    "and check whether it has the expected dimensions, we can call:"
   ]
  },
  {
   "cell_type": "code",
   "execution_count": 4,
   "metadata": {},
   "outputs": [
    {
     "name": "stdout",
     "output_type": "stream",
     "text": [
      "Forces:\n",
      " tensor([[ 1.4517e+00,  6.0192e+00,  5.2068e-07],\n",
      "        [ 1.7953e+01, -5.1624e+00,  3.4900e-07],\n",
      "        [-4.0884e+00,  2.2590e+01,  3.3088e-06],\n",
      "        [-1.1416e+00, -9.7469e+00,  7.6473e+00],\n",
      "        [-1.1416e+00, -9.7469e+00, -7.6473e+00],\n",
      "        [-2.4821e+00,  4.9335e+00,  4.3700e+00],\n",
      "        [-2.4821e+00,  4.9335e+00, -4.3700e+00],\n",
      "        [-5.5148e+00, -3.0207e+00, -8.9093e-09],\n",
      "        [-2.4393e+00, -1.0838e+01, -6.0721e-08]], dtype=torch.float64)\n",
      "Shape:\n",
      " torch.Size([9, 3])\n"
     ]
    }
   ],
   "source": [
    "print('Forces:\\n', properties[MD17.forces])\n",
    "print('Shape:\\n', properties[MD17.forces].shape)\n",
    "\n"
   ]
  },
  {
   "cell_type": "markdown",
   "metadata": {
    "pycharm": {
     "name": "#%% md\n"
    }
   },
   "source": [
    "## Building the model\n",
    "\n",
    "After having prepared the data in the above way, we can now build and train the force model.\n",
    "This is done in the same three steps as described in [QM9 tutorial](tutorial_02_qm9.ipynb):\n",
    "\n",
    "1. Defining input modules\n",
    "2. Building the representation\n",
    "3. Defining an output module\n",
    "\n",
    "For the representation we can use the same layers as in the previous tutorial:"
   ]
  },
  {
   "cell_type": "code",
   "execution_count": 5,
   "metadata": {},
   "outputs": [],
   "source": [
    "cutoff = 5.\n",
    "n_atom_basis = 30\n",
    "\n",
    "pairwise_distance = spk.atomistic.PairwiseDistances() # calculates pairwise distances between atoms\n",
    "radial_basis = spk.nn.GaussianRBF(n_rbf=20, cutoff=cutoff)\n",
    "schnet = spk.representation.SchNet(\n",
    "    n_atom_basis=n_atom_basis, n_interactions=3,\n",
    "    radial_basis=radial_basis,\n",
    "    cutoff_fn=spk.nn.CosineCutoff(cutoff)\n",
    ")"
   ]
  },
  {
   "cell_type": "markdown",
   "metadata": {},
   "source": [
    "Since we want to model forces, we need an additional output module. We will still use the Atomwise to predict the\n",
    "energy. However, since the forces should be described as the derivative of the energy, we have to indicate that the\n",
    "corresponding derviative of the model should be computed.\n",
    "\n",
    "This is done with the ``Forces`` module, which computes the negative derivative of the energy\n",
    " (specified by the supplied ``energy_key``) with respect to the atom positions."
   ]
  },
  {
   "cell_type": "code",
   "execution_count": 6,
   "metadata": {},
   "outputs": [],
   "source": [
    "pred_energy = spk.atomistic.Atomwise(n_in=n_atom_basis, output_key=MD17.energy)\n",
    "pred_forces = spk.atomistic.Forces(energy_key=MD17.energy, force_key=MD17.forces)"
   ]
  },
  {
   "cell_type": "markdown",
   "source": [
    "The input, representation and output modules are then assembled to the neural network potential:"
   ],
   "metadata": {
    "collapsed": false
   }
  },
  {
   "cell_type": "code",
   "execution_count": 7,
   "outputs": [],
   "source": [
    "nnpot = spk.model.NeuralNetworkPotential(\n",
    "    representation=schnet,\n",
    "    input_modules=[pairwise_distance],\n",
    "    output_modules=[pred_energy, pred_forces],\n",
    "    postprocessors=[\n",
    "        trn.CastTo64(),\n",
    "        trn.AddOffsets(MD17.energy, add_mean=True, add_atomrefs=False)\n",
    "    ]\n",
    ")"
   ],
   "metadata": {
    "collapsed": false,
    "pycharm": {
     "name": "#%%\n"
    }
   }
  },
  {
   "cell_type": "markdown",
   "metadata": {},
   "source": [
    "## Training the model\n",
    "\n",
    "Before we can train the model, the training task has to be defined, including the model, loss functions and\n",
    "optimizers. First, the outputs of the models are connected to their respective loss functions using `ModelOutput`.\n",
    "To train the model on energies and forces, we will use a combined loss function:\n",
    "\n",
    "\\begin{equation}\n",
    "\\mathcal{L}(E_\\mathrm{ref},\\mathbf{F}_\\mathrm{ref},E_\\mathrm{pred}, \\mathbf{F}_\\mathrm{pred}) = \\frac{1}{n_\\text{train}} \\sum_{n=1}^{n_\\text{train}} \\left[  \\rho_1 \\left( E_\\mathrm{ref} - E_\\mathrm{pred} \\right)^2 + \\frac{\\rho_2}{3N_\\mathrm{atoms}} \\sum^{N_\\mathrm{atoms}}_\\alpha \\left\\| \\mathbf{F}_\\mathrm{ref}^{(\\alpha)} - \\mathbf{F}_\\mathrm{pred}^{(\\alpha)} \\right\\|^2 \\right],\n",
    "\\end{equation}\n",
    "\n",
    "where we take the predicted forces to be:\n",
    "\n",
    "\\begin{equation}\n",
    "\\mathbf{F}_\\mathrm{pred}^{(\\alpha)} = -\\frac{\\partial E_\\mathrm{pred}}{\\partial \\mathbf{R}^{(\\alpha)}}.\n",
    "\\end{equation}\n",
    "\n",
    "We have introduced the loss weights $\\rho_i$ in order to control the tradeoff between energy and force loss.\n",
    "In SchNetPack, we can implement such a weighted loss function by setting the loss weights of `ModelOutput`:"
   ]
  },
  {
   "cell_type": "code",
   "execution_count": 8,
   "outputs": [],
   "source": [
    "output_energy = spk.task.ModelOutput(\n",
    "    name=MD17.energy,\n",
    "    loss_fn=torch.nn.MSELoss(),\n",
    "    loss_weight=0.01,\n",
    "    metrics={\n",
    "        \"MAE\": torchmetrics.MeanAbsoluteError()\n",
    "    }\n",
    ")\n",
    "\n",
    "output_forces = spk.task.ModelOutput(\n",
    "    name=MD17.forces,\n",
    "    loss_fn=torch.nn.MSELoss(),\n",
    "    loss_weight=0.99,\n",
    "    metrics={\n",
    "        \"MAE\": torchmetrics.MeanAbsoluteError()\n",
    "    }\n",
    ")"
   ],
   "metadata": {
    "collapsed": false,
    "pycharm": {
     "name": "#%%\n"
    }
   }
  },
  {
   "cell_type": "markdown",
   "source": [
    "Now, the training task can be assembled as in the last tutorial:\n"
   ],
   "metadata": {
    "collapsed": false
   }
  },
  {
   "cell_type": "code",
   "execution_count": 9,
   "metadata": {},
   "outputs": [],
   "source": [
    "task = spk.task.AtomisticTask(\n",
    "    model=nnpot,\n",
    "    outputs=[output_energy, output_forces],\n",
    "    optimizer_cls=torch.optim.AdamW,\n",
    "    optimizer_args={\"lr\": 1e-4}\n",
    ")"
   ]
  },
  {
   "cell_type": "markdown",
   "metadata": {},
   "source": [
    "Finally, we train the model using the PyTorch Lightning `Trainer` for 5 epochs."
   ]
  },
  {
   "cell_type": "code",
   "execution_count": 10,
   "metadata": {},
   "outputs": [
    {
     "name": "stderr",
     "output_type": "stream",
     "text": [
      "GPU available: True, used: False\n",
      "TPU available: False, using: 0 TPU cores\n",
      "IPU available: False, using: 0 IPUs\n",
      "/home/kschuett/anaconda3/envs/spkdev/lib/python3.8/site-packages/pytorch_lightning/trainer/trainer.py:1582: UserWarning: GPU available but not used. Set the gpus flag in your trainer `Trainer(gpus=1)` or script `--gpus=1`.\n",
      "  rank_zero_warn(\n",
      "/home/kschuett/anaconda3/envs/spkdev/lib/python3.8/site-packages/pytorch_lightning/core/datamodule.py:469: LightningDeprecationWarning: DataModule.setup has already been called, so it will not be called again. In v1.6 this behavior will change to always call DataModule.setup.\n",
      "  rank_zero_deprecation(\n",
      "\n",
      "  | Name    | Type                   | Params\n",
      "---------------------------------------------------\n",
      "0 | model   | NeuralNetworkPotential | 16.4 K\n",
      "1 | outputs | ModuleList             | 0     \n",
      "---------------------------------------------------\n",
      "16.4 K    Trainable params\n",
      "0         Non-trainable params\n",
      "16.4 K    Total params\n",
      "0.066     Total estimated model params size (MB)\n"
     ]
    },
    {
     "data": {
      "text/plain": "Validation sanity check: 0it [00:00, ?it/s]",
      "application/vnd.jupyter.widget-view+json": {
       "version_major": 2,
       "version_minor": 0,
       "model_id": "84041a2581a34963884054528628b160"
      }
     },
     "metadata": {},
     "output_type": "display_data"
    },
    {
     "name": "stderr",
     "output_type": "stream",
     "text": [
      "/home/kschuett/anaconda3/envs/spkdev/lib/python3.8/site-packages/pytorch_lightning/trainer/data_loading.py:116: UserWarning: The dataloader, val_dataloader 0, does not have many workers which may be a bottleneck. Consider increasing the value of the `num_workers` argument` (try 8 which is the number of cpus on this machine) in the `DataLoader` init to improve performance.\n",
      "  rank_zero_warn(\n",
      "/home/kschuett/anaconda3/envs/spkdev/lib/python3.8/site-packages/pytorch_lightning/utilities/data.py:59: UserWarning: Trying to infer the `batch_size` from an ambiguous collection. The batch size we found is 10. To avoid any miscalculations, use `self.log(..., batch_size=batch_size)`.\n",
      "  warning_cache.warn(\n",
      "/home/kschuett/anaconda3/envs/spkdev/lib/python3.8/site-packages/pytorch_lightning/trainer/data_loading.py:116: UserWarning: The dataloader, train_dataloader, does not have many workers which may be a bottleneck. Consider increasing the value of the `num_workers` argument` (try 8 which is the number of cpus on this machine) in the `DataLoader` init to improve performance.\n",
      "  rank_zero_warn(\n"
     ]
    },
    {
     "data": {
      "text/plain": "Training: 0it [00:00, ?it/s]",
      "application/vnd.jupyter.widget-view+json": {
       "version_major": 2,
       "version_minor": 0,
       "model_id": "5dd7c3ed15bb4185a6057a2e183c4c32"
      }
     },
     "metadata": {},
     "output_type": "display_data"
    },
    {
     "data": {
      "text/plain": "Validating: 0it [00:00, ?it/s]",
      "application/vnd.jupyter.widget-view+json": {
       "version_major": 2,
       "version_minor": 0,
       "model_id": "dd89083bb03b4209bd52f92498684209"
      }
     },
     "metadata": {},
     "output_type": "display_data"
    },
    {
     "data": {
      "text/plain": "Validating: 0it [00:00, ?it/s]",
      "application/vnd.jupyter.widget-view+json": {
       "version_major": 2,
       "version_minor": 0,
       "model_id": "d33bccc4c5814bc6a12b8ab8619d5321"
      }
     },
     "metadata": {},
     "output_type": "display_data"
    },
    {
     "data": {
      "text/plain": "Validating: 0it [00:00, ?it/s]",
      "application/vnd.jupyter.widget-view+json": {
       "version_major": 2,
       "version_minor": 0,
       "model_id": "221ca55b8aa642b296a927dd308e40fa"
      }
     },
     "metadata": {},
     "output_type": "display_data"
    },
    {
     "data": {
      "text/plain": "Validating: 0it [00:00, ?it/s]",
      "application/vnd.jupyter.widget-view+json": {
       "version_major": 2,
       "version_minor": 0,
       "model_id": "b36fece7d6e44e4e8980b0d32d0f342a"
      }
     },
     "metadata": {},
     "output_type": "display_data"
    },
    {
     "data": {
      "text/plain": "Validating: 0it [00:00, ?it/s]",
      "application/vnd.jupyter.widget-view+json": {
       "version_major": 2,
       "version_minor": 0,
       "model_id": "ed4b1e70749e49919d8b6fcb3778f71f"
      }
     },
     "metadata": {},
     "output_type": "display_data"
    }
   ],
   "source": [
    "logger = pl.loggers.TensorBoardLogger(save_dir=forcetut)\n",
    "callbacks = [\n",
    "    spk.train.ModelCheckpoint(\n",
    "        inference_path=os.path.join(forcetut, \"best_inference_model\"),\n",
    "        save_top_k=1,\n",
    "        monitor=\"val_loss\"\n",
    "    )\n",
    "]\n",
    "\n",
    "trainer = pl.Trainer(\n",
    "    callbacks=callbacks,\n",
    "    logger=logger,\n",
    "    default_root_dir=forcetut,\n",
    "    max_epochs=5, # for testing, we restrict the number of epochs\n",
    ")\n",
    "trainer.fit(task, datamodule=ethanol_data)"
   ]
  },
  {
   "cell_type": "markdown",
   "metadata": {},
   "source": [
    "Training will produce several files in the `model_path` directory, which is `forcetut` in our case.\n",
    "The split is stored in `split.npz`. \n",
    "Checkpoints are written to `checkpoints` periodically, which can be used to restart training.\n",
    "A copy of the best model is stored as `best_inference_model`, which can directly be accessed using the `torch.load`\n",
    "function.\n",
    "\n",
    "You can have a look at the log using Tensorboard:\n",
    "```\n",
    "tensorboard --logdir=forcetut/default\n",
    "```"
   ]
  },
  {
   "cell_type": "markdown",
   "metadata": {},
   "source": [
    "It should be noted that the model trained here is used exclusively for demonstrative purposes. Accordingly, its size\n",
    "and the training time have been reduced significantly. This puts strong constraints on the accuracy that can be\n",
    "obtained. For practical applications, one would e.g. increase the number of features, the interaction layers, the\n",
    "learning rate schedule and train until convergence (removing the `n_epochs` keyword from the `trainer`).\n",
    "To quickly get started training state-of-the-art models, have a look at the command line interface,\n",
    "which comes with a series of pre-built configurations."
   ]
  },
  {
   "cell_type": "markdown",
   "metadata": {},
   "source": [
    "## Using the model\n",
    "\n",
    "Since all models in SchNetPack are stored in the same way, we can use the trained force model in exactly the same manner\n",
    "as described in the [QM9 tutorial](tutorial_02_qm9.ipynb). To load the model stored in the `best_inference_model` file,\n",
    "we use the `torch.load` function. It will automatically be moved to the device it was trained on."
   ]
  },
  {
   "cell_type": "code",
   "execution_count": 11,
   "metadata": {},
   "outputs": [],
   "source": [
    "best_model = torch.load(os.path.join(forcetut, 'best_inference_model'))"
   ]
  },
  {
   "cell_type": "markdown",
   "metadata": {},
   "source": [
    "## Interface to ASE\n",
    "\n",
    "As was shown in the [QM9 tutorial](tutorial_02_qm9.ipynb), we use the `AtomsConverter` to directly operate on\n",
    "ASE atoms objects.\n",
    "Having access to molecular forces also makes it possible to perform a variety of different simulations.\n",
    "The `SpkCalculator` offers a simple way to perform all computations available in the ASE package.\n",
    "Below, we create an ASE calculator from the trained model and the previously generated `atoms` object\n",
    "(see [Preparing the data](#Preparing-the-data)).\n",
    "One important point is, that the MD17 dataset uses kcal/mol and kcal/mol/&#8491; as units for energies and forces.\n",
    "For the ASE interface, these need to be converted to the standard internal ASE units eV and eV/&#8491;.\n",
    "Therefore, we need to pass the units of the energies and forces predicted by the model to the calculator."
   ]
  },
  {
   "cell_type": "code",
   "execution_count": 12,
   "outputs": [
    {
     "name": "stdout",
     "output_type": "stream",
     "text": [
      "Prediction:\n",
      "energy: -4214.8652794460095\n",
      "forces: [[ 3.56254085  1.82367757  1.55830998]\n",
      " [ 0.99315922 -0.86904191 -1.50720566]\n",
      " [ 0.03677444 -0.65425532 -0.1600646 ]\n",
      " [-1.86923201  1.35359331 -0.7541254 ]\n",
      " [ 0.55044083 -1.28889362 -1.43034696]\n",
      " [-1.82220995  0.88389853 -0.10380705]\n",
      " [-1.17435485 -0.84933002  1.70828506]\n",
      " [ 0.18244644 -0.75103004 -0.51986529]\n",
      " [-0.4595651   0.35138193  1.20882014]]\n"
     ]
    }
   ],
   "source": [
    "from ase import Atoms\n",
    "\n",
    "\n",
    "converter = spk.interfaces.AtomsConverter(neighbor_list=trn.ASENeighborList(cutoff=5.), dtype=torch.float32)\n",
    "\n",
    "calculator = spk.interfaces.SpkCalculator(\n",
    "    model=best_model,\n",
    "    converter=converter,\n",
    "    energy=MD17.energy,\n",
    "    forces=MD17.forces,\n",
    "    energy_units='kcal/mol',\n",
    "    forces_units='kcal/mol/Ang'\n",
    ")\n",
    "\n",
    "structure = ethanol_data.test_dataset[0]\n",
    "atoms = Atoms(numbers=structure[spk.properties.Z], positions=structure[spk.properties.R])\n",
    "atoms.set_calculator(calculator)\n",
    "\n",
    "print('Prediction:')\n",
    "print('energy:', atoms.get_total_energy())\n",
    "print('forces:', atoms.get_forces())"
   ],
   "metadata": {
    "collapsed": false,
    "pycharm": {
     "name": "#%%\n"
    }
   }
  },
  {
   "cell_type": "markdown",
   "metadata": {},
   "source": [
    "Among the simulations which can be done by using ASE and a force model are geometry optimisation,\n",
    "normal mode analysis and simple molecular dynamics simulations.\n",
    "\n",
    "The `AseInterface` of SchNetPack offers a convenient way to perform basic versions of these computations.\n",
    "Only a file specifying the geometry of the molecule and a pretrained model are needed.\n",
    "\n",
    "We will first generate a XYZ file containing an ethanol configuration:"
   ]
  },
  {
   "cell_type": "code",
   "execution_count": 13,
   "metadata": {},
   "outputs": [],
   "source": [
    "from ase import io\n",
    "\n",
    "# Generate a directory for the ASE computations\n",
    "ase_dir = os.path.join(forcetut, 'ase_calcs')\n",
    "\n",
    "if not os.path.exists(ase_dir):\n",
    "    os.mkdir(ase_dir)\n",
    "\n",
    "# Write a sample molecule\n",
    "molecule_path = os.path.join(ase_dir, 'ethanol.xyz')\n",
    "io.write(molecule_path, atoms, format='xyz')"
   ]
  },
  {
   "cell_type": "markdown",
   "metadata": {},
   "source": [
    "The `AseInterface` is initialized by passing the path to the molecule, the model and a computation directory.\n",
    "In addition, the computation device for the force model and how energies and forces are called in the output,\n",
    "as well as their units, need to be provided."
   ]
  },
  {
   "cell_type": "code",
   "execution_count": 14,
   "metadata": {},
   "outputs": [],
   "source": [
    "ethanol_ase = spk.interfaces.AseInterface(\n",
    "    molecule_path,\n",
    "    ase_dir,\n",
    "    best_model,\n",
    "    converter=converter,\n",
    "    energy=MD17.energy,\n",
    "    forces=MD17.forces,\n",
    "    energy_units='kcal/mol',\n",
    "    forces_units='kcal/mol/Ang'\n",
    ")"
   ]
  },
  {
   "cell_type": "markdown",
   "metadata": {},
   "source": [
    "### Geometry optimization\n",
    "\n",
    "For some applications it is neccessary to relax a molecule to an energy minimum.\n",
    "In order to perform this optimization of the molecular geometry, we can simply call"
   ]
  },
  {
   "cell_type": "code",
   "execution_count": 15,
   "metadata": {},
   "outputs": [
    {
     "name": "stdout",
     "output_type": "stream",
     "text": [
      "                Step[ FC]     Time          Energy          fmax\n",
      "BFGSLineSearch:    0[  0] 17:46:06    -4214.865279        4.2949\n",
      "BFGSLineSearch:    1[  2] 17:46:06    -4215.271684        1.6134\n",
      "BFGSLineSearch:    2[  4] 17:46:07    -4215.343626        0.6966\n",
      "BFGSLineSearch:    3[  6] 17:46:07    -4215.392868        1.0173\n",
      "BFGSLineSearch:    4[  8] 17:46:07    -4215.460684        0.5116\n",
      "BFGSLineSearch:    5[ 10] 17:46:07    -4215.483194        0.6698\n",
      "BFGSLineSearch:    6[ 12] 17:46:07    -4215.522721        0.6229\n",
      "BFGSLineSearch:    7[ 14] 17:46:07    -4215.549195        0.5787\n",
      "BFGSLineSearch:    8[ 16] 17:46:07    -4215.558430        0.4029\n",
      "BFGSLineSearch:    9[ 17] 17:46:07    -4215.575628        0.3189\n",
      "BFGSLineSearch:   10[ 18] 17:46:07    -4215.584439        0.6328\n",
      "BFGSLineSearch:   11[ 20] 17:46:08    -4215.594228        0.5697\n",
      "BFGSLineSearch:   12[ 21] 17:46:08    -4215.600722        0.3565\n",
      "BFGSLineSearch:   13[ 23] 17:46:08    -4215.609511        0.3455\n",
      "BFGSLineSearch:   14[ 25] 17:46:08    -4215.616081        0.3602\n",
      "BFGSLineSearch:   15[ 27] 17:46:08    -4215.626357        0.5558\n",
      "BFGSLineSearch:   16[ 28] 17:46:08    -4215.631435        0.2492\n",
      "BFGSLineSearch:   17[ 29] 17:46:08    -4215.640436        0.1171\n",
      "BFGSLineSearch:   18[ 30] 17:46:08    -4215.644778        0.3833\n",
      "BFGSLineSearch:   19[ 32] 17:46:09    -4215.652222        0.1719\n",
      "BFGSLineSearch:   20[ 33] 17:46:09    -4215.657605        0.1314\n",
      "BFGSLineSearch:   21[ 34] 17:46:09    -4215.660171        0.0953\n",
      "BFGSLineSearch:   22[ 35] 17:46:09    -4215.661052        0.0463\n",
      "BFGSLineSearch:   23[ 36] 17:46:09    -4215.661293        0.0224\n",
      "BFGSLineSearch:   24[ 37] 17:46:09    -4215.661417        0.0287\n",
      "BFGSLineSearch:   25[ 39] 17:46:09    -4215.661642        0.0293\n",
      "BFGSLineSearch:   26[ 41] 17:46:09    -4215.661877        0.0568\n",
      "BFGSLineSearch:   27[ 43] 17:46:09    -4215.662069        0.0136\n",
      "BFGSLineSearch:   28[ 44] 17:46:09    -4215.662133        0.0201\n",
      "BFGSLineSearch:   29[ 45] 17:46:10    -4215.662158        0.0216\n",
      "BFGSLineSearch:   30[ 48] 17:46:10    -4215.662186        0.0109\n",
      "BFGSLineSearch:   31[ 50] 17:46:10    -4215.662251        0.0141\n",
      "BFGSLineSearch:   32[ 53] 17:46:10    -4215.662341        0.0200\n",
      "BFGSLineSearch:   33[ 55] 17:46:10    -4215.662424        0.0172\n",
      "BFGSLineSearch:   34[ 56] 17:46:10    -4215.662439        0.0032\n"
     ]
    }
   ],
   "source": [
    "ethanol_ase.optimize(fmax=1e-2)"
   ]
  },
  {
   "cell_type": "markdown",
   "metadata": {},
   "source": [
    "Since we trained only a reduced model, the accuracy of energies and forces is not optimal and several steps are\n",
    "needed to optimize the geometry.\n",
    "\n",
    "### Normal mode analysis\n",
    "\n",
    "Once the geometry was optimized, normal mode frequencies can be obtained from the Hessian (matrix of second derivatives)\n",
    "of the molecule. The Hessian is a measure of the curvature of the potential energy surface and normal mode frequencies\n",
    "are useful for determining, whether an optimization has reached a minimum. Using the `AseInterface`, normal mode\n",
    "frequencies can be obtained via:"
   ]
  },
  {
   "cell_type": "code",
   "execution_count": 16,
   "metadata": {},
   "outputs": [
    {
     "name": "stdout",
     "output_type": "stream",
     "text": [
      "---------------------\n",
      "  #    meV     cm^-1\n",
      "---------------------\n",
      "  0    1.4i     11.6i\n",
      "  1    0.8i      6.5i\n",
      "  2    0.6i      4.9i\n",
      "  3    0.1i      0.5i\n",
      "  4    0.1       0.7\n",
      "  5    0.1       0.9\n",
      "  6   14.5     117.1\n",
      "  7   36.0     290.2\n",
      "  8   38.1     307.3\n",
      "  9   55.8     449.7\n",
      " 10   82.5     665.7\n",
      " 11   95.6     770.8\n",
      " 12  100.6     811.4\n",
      " 13  109.9     886.7\n",
      " 14  111.5     899.1\n",
      " 15  124.6    1005.2\n",
      " 16  136.7    1102.8\n",
      " 17  154.4    1245.3\n",
      " 18  160.1    1291.7\n",
      " 19  163.2    1316.2\n",
      " 20  166.6    1343.6\n",
      " 21  365.4    2947.4\n",
      " 22  370.3    2986.8\n",
      " 23  373.1    3009.1\n",
      " 24  375.7    3030.5\n",
      " 25  387.9    3129.0\n",
      " 26  406.7    3280.6\n",
      "---------------------\n",
      "Zero-point energy: 1.915 eV\n"
     ]
    }
   ],
   "source": [
    "ethanol_ase.compute_normal_modes()"
   ]
  },
  {
   "cell_type": "markdown",
   "metadata": {},
   "source": [
    "Imaginary frequencies indicate, that the geometry optimisation has not yet reached a minimum.\n",
    "The `AseInterface` also creates an `normal_modes.xyz` file which can be used to visualize the vibrations with jmol.\n",
    "\n",
    "### Molecular dynamics\n",
    "\n",
    "Finally, it is also possible to basic run molecular dynamics simulations using this interface.\n",
    "To do so, we first need to prepare the system, where we specify the simulation file.\n",
    "This routine automatically initializes the velocities of the atoms to a random number corresponding to a certain average\n",
    "kinetic energy."
   ]
  },
  {
   "cell_type": "code",
   "execution_count": 17,
   "metadata": {},
   "outputs": [
    {
     "name": "stderr",
     "output_type": "stream",
     "text": [
      "/home/kschuett/anaconda3/envs/spkdev/lib/python3.8/site-packages/ase/md/md.py:48: FutureWarning: Specify the temperature in K using the 'temperature_K' argument\n",
      "  warnings.warn(FutureWarning(w))\n"
     ]
    }
   ],
   "source": [
    "ethanol_ase.init_md(\n",
    "    'simulation'\n",
    ")"
   ]
  },
  {
   "cell_type": "markdown",
   "metadata": {},
   "source": [
    "The actual simulation is performed by calling the function `run_md` with a certain number of steps:"
   ]
  },
  {
   "cell_type": "code",
   "execution_count": 18,
   "metadata": {},
   "outputs": [],
   "source": [
    "ethanol_ase.run_md(1000)"
   ]
  },
  {
   "cell_type": "markdown",
   "metadata": {},
   "source": [
    "During simulation, energies and geometries are logged to `simulation.log` and `simulation.traj`, respectively.\n",
    "\n",
    "We can for example visualize the evolution of the systems total and potential energies as\n"
   ]
  },
  {
   "cell_type": "code",
   "execution_count": 19,
   "outputs": [
    {
     "name": "stdout",
     "output_type": "stream",
     "text": [
      "Average temperature:     140.88 K\n"
     ]
    },
    {
     "data": {
      "text/plain": "<Figure size 1008x432 with 2 Axes>",
      "image/png": "[encoded data removed]"
     },
     "metadata": {
      "needs_background": "light"
     },
     "output_type": "display_data"
    }
   ],
   "source": [
    "# Load logged results\n",
    "results = np.loadtxt(os.path.join(ase_dir, 'simulation.log'), skiprows=1)\n",
    "\n",
    "# Determine time axis\n",
    "time = results[:,0]\n",
    "\n",
    "# Load energies\n",
    "energy_tot = results[:,1]\n",
    "energy_pot = results[:,2]\n",
    "energy_kin = results[:,3]\n",
    "\n",
    "# Construct figure\n",
    "plt.figure(figsize=(14,6))\n",
    "\n",
    "# Plot energies\n",
    "plt.subplot(2,1,1)\n",
    "plt.plot(time, energy_tot, label='Total energy')\n",
    "plt.plot(time, energy_pot, label='Potential energy')\n",
    "plt.ylabel('E [eV]')\n",
    "plt.legend()\n",
    "\n",
    "plt.subplot(2,1,2)\n",
    "plt.plot(time, energy_kin, label='Kinetic energy')\n",
    "plt.ylabel('E [eV]')\n",
    "plt.xlabel('Time [ps]')\n",
    "plt.legend()\n",
    "\n",
    "temperature = results[:,4]\n",
    "print('Average temperature: {:10.2f} K'.format(np.mean(temperature)))\n",
    "\n",
    "plt.show()"
   ],
   "metadata": {
    "collapsed": false,
    "pycharm": {
     "name": "#%%\n"
    }
   }
  },
  {
   "cell_type": "markdown",
   "metadata": {},
   "source": [
    "As can be seen, the potential and kinetic energies fluctuate, while the total energy (sum of potential and kinetic\n",
    "energy) remains approximately constant. This is a good demonstration for the energy conservation obtained by modeling\n",
    "forces as energy derivatives. Unfortunately, this also means that energy conservation is not a sufficient measure for\n",
    "the quality of the potential.\n",
    "\n",
    "However, frequently one is interested in simulations where the system is coupled to an external heat bath.\n",
    "This is the same as saying that we wish to keep the average kinetic energy of the system and hence temperature close to a\n",
    "certain value. Currently, the average temperature only depends on the random velocities drawn during the initialization\n",
    "of the dynamics. Keeping a constant temperature average can be achieved by using a so-called thermostat.\n",
    "In the `AseInterface`, simulations with a thermostat (to be precise a Langevin thermostat) can be carried out by\n",
    "providing the `temp_bath` keyword. A simulation with e.g. the target temperature of 300K is performed via:"
   ]
  },
  {
   "cell_type": "code",
   "execution_count": 20,
   "metadata": {},
   "outputs": [
    {
     "name": "stderr",
     "output_type": "stream",
     "text": [
      "/home/kschuett/anaconda3/envs/spkdev/lib/python3.8/site-packages/ase/md/md.py:48: FutureWarning: Specify the temperature in K using the 'temperature_K' argument\n",
      "  warnings.warn(FutureWarning(w))\n"
     ]
    }
   ],
   "source": [
    "ethanol_ase.init_md(\n",
    "    'simulation_300K',\n",
    "    temp_bath=300,\n",
    "    reset=True\n",
    ")\n",
    "ethanol_ase.run_md(20000)"
   ]
  },
  {
   "cell_type": "markdown",
   "metadata": {},
   "source": [
    "We can now once again plot total and potential energies.\n",
    "Instead of the kinetic energy, we plot the temperature (both quantities are directly related)."
   ]
  },
  {
   "cell_type": "code",
   "execution_count": 21,
   "metadata": {},
   "outputs": [
    {
     "name": "stdout",
     "output_type": "stream",
     "text": [
      "Average temperature:     311.14 K\n"
     ]
    },
    {
     "data": {
      "text/plain": "<Figure size 1008x432 with 2 Axes>",
      "image/png": "[encoded data removed]"
     },
     "metadata": {
      "needs_background": "light"
     },
     "output_type": "display_data"
    }
   ],
   "source": [
    "# Load logged results\n",
    "results = np.loadtxt(os.path.join(ase_dir, 'simulation_300K.log'), skiprows=1)\n",
    "\n",
    "# Determine time axis\n",
    "time = results[:,0]\n",
    "#0.02585\n",
    "# Load energies\n",
    "energy_tot = results[:,1]\n",
    "energy_pot = results[:,2]\n",
    "\n",
    "# Construct figure\n",
    "plt.figure(figsize=(14,6))\n",
    "\n",
    "# Plot energies\n",
    "plt.subplot(2,1,1)\n",
    "plt.plot(time, energy_tot, label='Total energy')\n",
    "plt.plot(time, energy_pot, label='Potential energy')\n",
    "plt.ylabel('Energies [eV]')\n",
    "plt.legend()\n",
    "\n",
    "# Plot Temperature\n",
    "temperature = results[:,4]\n",
    "\n",
    "# Compute average temperature\n",
    "print('Average temperature: {:10.2f} K'.format(np.mean(temperature)))\n",
    "\n",
    "plt.subplot(2,1,2)\n",
    "plt.plot(time, temperature, label='Simulation')\n",
    "plt.ylabel('Temperature [K]')\n",
    "plt.xlabel('Time [ps]')\n",
    "plt.plot(time, np.ones_like(temperature)*300, label='Target')\n",
    "plt.legend()\n",
    "plt.show()"
   ]
  },
  {
   "cell_type": "markdown",
   "metadata": {},
   "source": [
    "Since our molecule is now subjected to external influences via the thermostat the total energy is no longer conserved.\n",
    "However, the simulation temperature now fluctuates near to the requested 300K.\n",
    "This can also be seen by computing the temperature average over time, which is now close to the desired value in contrast to the previous simulation."
   ]
  },
  {
   "cell_type": "markdown",
   "metadata": {},
   "source": [
    "## Summary\n",
    "\n",
    "In this tutorial, we have trained a SchNet model on energies and forces using the MD17 ethanol dataset as an example. \n",
    "We have then evaluated the performance of the model and performed geometry optimisation, normal mode analysis and basic molecular dynamic simulations using the SchNetPack ASE interface.\n",
    "\n",
    "While these simulations can already be useful for practical applications, SchNetPack also comes with its own molecular dynamics package.\n",
    "This package makes it possible to run efficient simulations on GPU and also offers access to advanced techniques, such as ring polymer dynamics.\n",
    "In the next tutorial, we will cover how to perform molecular dynamics simulations directly with SchNetPack."
   ]
  }
 ],
 "metadata": {
  "kernelspec": {
   "name": "conda-env-spkdev-py",
   "language": "python",
   "display_name": "Python [conda env:spkdev] *"
  },
  "language_info": {
   "codemirror_mode": {
    "name": "ipython",
    "version": 3
   },
   "file_extension": ".py",
   "mimetype": "text/x-python",
   "name": "python",
   "nbconvert_exporter": "python",
   "pygments_lexer": "ipython3",
   "version": "3.6.8"
  },
  "nbsphinx": {
   "execute": "never"
  }
 },
 "nbformat": 4,
 "nbformat_minor": 2
}